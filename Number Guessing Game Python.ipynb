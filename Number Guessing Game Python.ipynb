{
 "cells": [
  {
   "cell_type": "code",
   "execution_count": 1,
   "id": "1d40e575",
   "metadata": {},
   "outputs": [
    {
     "name": "stdout",
     "output_type": "stream",
     "text": [
      "Welcome\n",
      "Enter any number from 0 to 100: 32\n",
      "Your number is smaller\n",
      "Remaining chances: 6\n",
      "Enter any number from 0 to 100: 89\n",
      "Your number is greater \n",
      "Remaining chances: 5\n",
      "Enter any number from 0 to 100: 50\n",
      "Your number is smaller\n",
      "Remaining chances: 4\n",
      "Enter any number from 0 to 100: 70\n",
      "Your number is smaller\n",
      "Remaining chances: 3\n",
      "Enter any number from 0 to 100: 71\n",
      "Awesome !\n",
      "Remaining chances: 2\n",
      "You got the number in 5 chance\n"
     ]
    }
   ],
   "source": [
    "# Number Guessing\n",
    "\n",
    "print(\"Welcome\")\n",
    "\n",
    "WinNum = 71\n",
    "\n",
    "chance = 7\n",
    "\n",
    "\n",
    "for i in range(1,8):\n",
    "    num = int(input(\"Enter any number from 0 to 100: \"))\n",
    "    \n",
    "    if num < 0 or num > 100:\n",
    "        print(\"Warning : INVALID INPUT\\nNumber should be between 0 to 100\")\n",
    "        chance = chance - 1\n",
    "\n",
    "    elif num > WinNum:\n",
    "        print(\"Your number is greater \")\n",
    "        chance = chance - 1\n",
    "        print(f\"Remaining chances: {chance}\")\n",
    "    \n",
    "    elif num < WinNum:\n",
    "        print(\"Your number is smaller\")\n",
    "        chance = chance - 1\n",
    "        print(f\"Remaining chances: {chance}\")\n",
    "    \n",
    "    elif num == WinNum:\n",
    "        print(\"Awesome !\")\n",
    "        chance = chance - 1\n",
    "        print(f\"Remaining chances: {chance}\")\n",
    "        break\n",
    "        \n",
    "    \n",
    "if num == WinNum:\n",
    "    print(f\"You got the number in {i} chance\")\n",
    "    \n",
    "else:\n",
    "    print(\"You lose ! Better luck next time\")\n",
    "\n"
   ]
  }
 ],
 "metadata": {
  "kernelspec": {
   "display_name": "Python 3 (ipykernel)",
   "language": "python",
   "name": "python3"
  },
  "language_info": {
   "codemirror_mode": {
    "name": "ipython",
    "version": 3
   },
   "file_extension": ".py",
   "mimetype": "text/x-python",
   "name": "python",
   "nbconvert_exporter": "python",
   "pygments_lexer": "ipython3",
   "version": "3.9.7"
  }
 },
 "nbformat": 4,
 "nbformat_minor": 5
}
